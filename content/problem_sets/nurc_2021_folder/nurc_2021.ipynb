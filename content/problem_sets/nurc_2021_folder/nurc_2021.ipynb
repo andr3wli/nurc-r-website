{
 "cells": [
  {
   "cell_type": "markdown",
   "metadata": {
    "deletable": false,
    "editable": false,
    "nbgrader": {
     "cell_type": "markdown",
     "checksum": "832f2701f2fb2f8d43d940f8664b5186",
     "grade": false,
     "grade_id": "introduction",
     "locked": true,
     "schema_version": 3,
     "solution": false,
     "task": false
    }
   },
   "source": [
    "# R for Neuroscience (r4n)\n",
    "Made with 💖 by Andrew Li\n",
    "\n",
    "![](https://media.giphy.com/media/SSirUu2TrV65ymCi4J/giphy.gif)\n",
    "*Source: https://giphy.com/gifs/back-to-school-SSirUu2TrV65ymCi4J*\n",
    "\n",
    "## Welcome NURC 2021!\n",
    "I created this worksheet for the 2021 [Neuroscience Undergraduate Research Conference (NURC)](https://ubcneuroscienceclub.wixsite.com/uncweb/nurc-2021). This worksheet is meant for beginners with little to no R background. I will introduce you to the modern tools such as tidyverse to show you how to conduct a clean and modern data analysis. \n",
    "\n",
    "## Why should you learn R?\n",
    "During my undergrad, my PhD mentor told me to learn R if I wanted to attend graduate school. \n",
    "\n",
    "1. R is free (unlike Matlab, SPSS, or Excel)! As well, many textbooks and resources (like this one) is open source and widely available. As well, there is a huge online R community. \n",
    "\n",
    "2. R is the future of statistical analysis (present as well?). During the summer and fall, I have interviewed with many potential supervisors. Most assumed that you know R already or that you will be willing to learn in grad school. As such, it is a very useful skill to pick up.\n",
    "\n",
    "3. R is very versatile. I have used R in so many different ways from statistical tests, web development, and modeling. \n",
    "\n",
    "4. Analyses conducted in R are reproducible, reusable, and shareable. I was an undergraduate research assistant and my PhD mentor was showing me the data analysis and plots he created in Excel. He told me to do the other data set but I totally forgot how to do it when I got around to it.\n",
    "\n",
    "## About the instructors\n",
    "[Andrew Li](http://andrewcli.me) <br>\n",
    "[Tiger Wu](https://tigerthepro.github.io/TigerWu/)\n",
    "\n",
    "## Contents\n",
    "1. Introduction to Jupyter Notebooks\n",
    "    * Text cells\n",
    "        * Markdown cheatsheet\n",
    "    * Code cells\n",
    "    * Equations\n",
    "    * Comments\n",
    "    * Check your answers\n",
    "2. Welcome to the tidyverse\n",
    "3. Data collection\n",
    "    * `readr`\n",
    "4. Data wrangling\n",
    "    * `select()`\n",
    "    * `filter()`\n",
    "    * `rename()`\n",
    "    * `mutate()`\n",
    "5. Data visualization\n",
    "    * Themes\n",
    "    * Grammar of Graphics\n",
    "6. Putting it all together\n",
    "    * Data collection\n",
    "    * Data wrangling\n",
    "    * Data visualization\n",
    "7. Future direction\n",
    "\n",
    "Use the cell below to load (install if you haven't already) the packages we will need:"
   ]
  },
  {
   "cell_type": "code",
   "execution_count": null,
   "metadata": {},
   "outputs": [],
   "source": [
    "# uncomment and run this cell if you need to install tidyverse.\n",
    "# install.packages('tidyverse')"
   ]
  },
  {
   "cell_type": "code",
   "execution_count": null,
   "metadata": {
    "deletable": false,
    "editable": false,
    "nbgrader": {
     "cell_type": "code",
     "checksum": "70932dacf2c490040082057b7d2301ee",
     "grade": false,
     "grade_id": "libraries",
     "locked": true,
     "schema_version": 3,
     "solution": false,
     "task": false
    }
   },
   "outputs": [],
   "source": [
    "# Run this cell before continuing.\n",
    "source(\"tests_nurc_2021.R\")\n",
    "suppressPackageStartupMessages(library(tidyverse))"
   ]
  },
  {
   "cell_type": "markdown",
   "metadata": {
    "deletable": false,
    "editable": false,
    "nbgrader": {
     "cell_type": "markdown",
     "checksum": "5581133fb64adf3be9cc6066c5d1496f",
     "grade": false,
     "grade_id": "IntroJupyter1",
     "locked": true,
     "schema_version": 3,
     "solution": false,
     "task": false
    }
   },
   "source": [
    "## 1. Introduction to Jupyter Notebooks\n",
    "If you go on to statistic or computer science courses, often time they will use Jupyter Notebooks. As such it is worthwhile to familiarize yourselves to it. This section will show you what Jupyter notebooks are and what they can do!\n",
    "\n",
    "### 1.1 Text cells\n",
    "In a notebook, each rectangle is called a cell. This one is a text cell because it contains text. You can edit text cells by double clicking it. After you are done, simply press `control + enter` (mac and pc)or click run. Text cells are written in markdown. Markdown is a very simple markup language to format and edit the text. **Note** Jupyter lab does not have spell check, so be careful if you want to submit a future assignment/project!\n",
    "\n",
    "#### 1.1.1 Markdown cheatsheet\n",
    "\n",
    "Double click this cell to take a look at some common markdown tools:\n",
    "\n",
    "**This is bold**\n",
    "\n",
    "*This is italics*\n",
    "## This is a header\n",
    "Here is an ordered list:\n",
    "1. Thing 1\n",
    "2. Thing 2\n",
    "\n",
    "Here is an unordered list: \n",
    "* Order doesn't matter\n",
    "* Still doesn't matter"
   ]
  },
  {
   "cell_type": "markdown",
   "metadata": {
    "deletable": false,
    "editable": false,
    "nbgrader": {
     "cell_type": "markdown",
     "checksum": "c2d307a0efe039ed7b42ed53ca41433a",
     "grade": false,
     "grade_id": "IntroJupyter2",
     "locked": true,
     "schema_version": 3,
     "solution": false,
     "task": false
    }
   },
   "source": [
    "### 1.2 Code cells\n",
    "Code cells allow you to input R or Python code. Pressing `control + enter` or clicking run will make Jupyter run the whole cell. You can run the entire sheet from top to bottom if you click the `run all` tab in the `cell` tab. \n",
    "\n",
    "Try to print \"Hello World!\" "
   ]
  },
  {
   "cell_type": "code",
   "execution_count": null,
   "metadata": {
    "deletable": false,
    "editable": false,
    "nbgrader": {
     "cell_type": "code",
     "checksum": "68451e04558b38ee67bcffd8f74e4767",
     "grade": false,
     "grade_id": "IntroJupyter2_code",
     "locked": true,
     "schema_version": 3,
     "solution": false,
     "task": false
    }
   },
   "outputs": [],
   "source": [
    "print(\"Hello World!\")"
   ]
  },
  {
   "cell_type": "markdown",
   "metadata": {
    "deletable": false,
    "editable": false,
    "nbgrader": {
     "cell_type": "markdown",
     "checksum": "5d047f2892000a0a0cd47104e84f93f4",
     "grade": false,
     "grade_id": "IntroJupyter3",
     "locked": true,
     "schema_version": 3,
     "solution": false,
     "task": false
    }
   },
   "source": [
    "### 1.3 Equations\n",
    "In markdown, you can enter equations as well. Double click this cell to see how you can create in line equations such as this $Y = \\beta_0 + \\beta_1 = X$ or in the center like this \n",
    "\n",
    "$$\n",
    "\\bar{X} = \\frac{\\sum{X_1}}{N} = \\frac{X_1 + X_2 + X_3 + ... + X_N}{N}\n",
    "$$\n",
    "\n",
    "As you can see, Jupyter notebooks have become very popular because of how much you can do with them. "
   ]
  },
  {
   "cell_type": "markdown",
   "metadata": {
    "deletable": false,
    "editable": false,
    "nbgrader": {
     "cell_type": "markdown",
     "checksum": "792a96647b1b1d9b23413d858c6f622a",
     "grade": false,
     "grade_id": "IntroJupyter4",
     "locked": true,
     "schema_version": 3,
     "solution": false,
     "task": false
    }
   },
   "source": [
    "### 1.4 Comments\n",
    "In all programming languages, you can comment out chunk codes or sentences. This is so that you and others can more easily understand your thoughts and workflow. As well, it is really good for debugging and trying things out. In R, you comment things with `#`, everything behind # will be ignored. Other languages will have different syntax. In Jupyter notebooks, you can comment out large chunks of code by selecting everything you want to run and use the hot keys `command or control + /`. In RStudio, you can do this by using the hot keys `control + shift + c`. "
   ]
  },
  {
   "cell_type": "markdown",
   "metadata": {
    "deletable": false,
    "editable": false,
    "nbgrader": {
     "cell_type": "markdown",
     "checksum": "a344fcd49d764d6b9078ba143c4da2a2",
     "grade": false,
     "grade_id": "IntroTests1",
     "locked": true,
     "schema_version": 3,
     "solution": false,
     "task": false
    }
   },
   "source": [
    "### 1.5 Check your answer\n",
    "\n",
    "I have written tests for your answers and the autograder. You can check your for the correctness of your code by simply running the cells directly underneath the cells with a question. However, you must load the solution first (just as you need to load packages) before you can use the test functions. In every notebook, you will be prompt to run the packages needed and my tests. "
   ]
  },
  {
   "cell_type": "code",
   "execution_count": null,
   "metadata": {},
   "outputs": [],
   "source": [
    "# you will find this cell near the top of every notebook\n",
    "\n",
    "# Run this cell before continuing. \n",
    "source(\"tests_nurc_2021.R\")\n",
    "\n",
    "# example of a test from this notebook\n",
    "# test_2.3()"
   ]
  },
  {
   "cell_type": "markdown",
   "metadata": {
    "deletable": false,
    "editable": false,
    "nbgrader": {
     "cell_type": "markdown",
     "checksum": "9c4141dd1e5c0d98cdabbc35bd4c7b4d",
     "grade": false,
     "grade_id": "intro_text_1",
     "locked": true,
     "schema_version": 3,
     "solution": false,
     "task": false
    }
   },
   "source": [
    "#### Question 1.1 \n",
    "\n",
    "Multiple choice: \n",
    "\n",
    "Welcome to your first question! When you are working through this worksheet make sure you *read* and *follow* the instructions. \n",
    "\n",
    "To answer this multiple choice question, assign your answer to `answer1.1` and make sure your response(s) are in upper case and in quotation marks (\"A\"). \n",
    "\n",
    "    answer1.1 <- c(FILL_THIS_IN, FILL_THIS_IN)\n",
    "\n",
    "A. Correct\n",
    "\n",
    "B. Correct\n",
    "\n",
    "C. Incorrect\n",
    "\n",
    "D. Incorrect "
   ]
  },
  {
   "cell_type": "code",
   "execution_count": null,
   "metadata": {
    "deletable": false,
    "nbgrader": {
     "cell_type": "code",
     "checksum": "dac0ff2ec3281a46961b968f074f0c66",
     "grade": false,
     "grade_id": "intro_q1_q",
     "locked": false,
     "schema_version": 3,
     "solution": true,
     "task": false
    }
   },
   "outputs": [],
   "source": [
    "# your code here\n",
    "fail() # No Answer - remove if you provide an answer"
   ]
  },
  {
   "cell_type": "code",
   "execution_count": null,
   "metadata": {
    "deletable": false,
    "editable": false,
    "nbgrader": {
     "cell_type": "code",
     "checksum": "adc3b00bad8db2239d199c7c8f788977",
     "grade": true,
     "grade_id": "intro_q1_test",
     "locked": true,
     "points": 1,
     "schema_version": 3,
     "solution": false,
     "task": false
    }
   },
   "outputs": [],
   "source": [
    "test_1.1()"
   ]
  },
  {
   "cell_type": "markdown",
   "metadata": {
    "deletable": false,
    "editable": false,
    "nbgrader": {
     "cell_type": "markdown",
     "checksum": "4d286fedf8c4baf3a5ed86ac243b6140",
     "grade": false,
     "grade_id": "intro_text_2",
     "locked": true,
     "schema_version": 3,
     "solution": false,
     "task": false
    }
   },
   "source": [
    "#### Question 1.2\n",
    "\n",
    "True or false: \n",
    "\n",
    "R is similar to SPSS.\n",
    "\n",
    "To answer this true or false question, assign your response to `answer1.2`. Make sure your submission is in all lower case and to surround your answer in quotation marks (\"true\"/\"false\"). \n",
    "\n",
    "    answer1.2 <- FILL_THIS_IN"
   ]
  },
  {
   "cell_type": "code",
   "execution_count": null,
   "metadata": {
    "deletable": false,
    "nbgrader": {
     "cell_type": "code",
     "checksum": "46be296116516233c965f488fd3f0de7",
     "grade": false,
     "grade_id": "intro_q2_q",
     "locked": false,
     "schema_version": 3,
     "solution": true,
     "task": false
    }
   },
   "outputs": [],
   "source": [
    "# your code here\n",
    "fail() # No Answer - remove if you provide an answer"
   ]
  },
  {
   "cell_type": "code",
   "execution_count": null,
   "metadata": {
    "deletable": false,
    "editable": false,
    "nbgrader": {
     "cell_type": "code",
     "checksum": "836a28155a2235887593eb6a59951652",
     "grade": true,
     "grade_id": "intro_q2_test",
     "locked": true,
     "points": 1,
     "schema_version": 3,
     "solution": false,
     "task": false
    }
   },
   "outputs": [],
   "source": [
    "test_1.2()"
   ]
  },
  {
   "cell_type": "markdown",
   "metadata": {
    "deletable": false,
    "editable": false,
    "nbgrader": {
     "cell_type": "markdown",
     "checksum": "eef7910368806ee30cc82e481898a75e",
     "grade": false,
     "grade_id": "intro_q3_text",
     "locked": true,
     "schema_version": 3,
     "solution": false,
     "task": false
    }
   },
   "source": [
    "#### Question 1.3 \n",
    "\n",
    "True or False: \n",
    "\n",
    "This problem set is for marks. \n",
    "\n",
    "To answer this true or false question, assign your response to `answer1.3`. Make sure your submission is in all lower case and to surround your answer in quotation marks (\"true\"/\"false\"). \n",
    "\n",
    "    answer1.3 <- FILL_THIS_IN"
   ]
  },
  {
   "cell_type": "code",
   "execution_count": null,
   "metadata": {
    "deletable": false,
    "nbgrader": {
     "cell_type": "code",
     "checksum": "d273206666aab14bdd4495ebde9ce3b9",
     "grade": false,
     "grade_id": "intro_q3_q",
     "locked": false,
     "schema_version": 3,
     "solution": true,
     "task": false
    }
   },
   "outputs": [],
   "source": [
    "# your code here\n",
    "fail() # No Answer - remove if you provide an answer"
   ]
  },
  {
   "cell_type": "code",
   "execution_count": null,
   "metadata": {
    "deletable": false,
    "editable": false,
    "nbgrader": {
     "cell_type": "code",
     "checksum": "260be5b6e470e0695997ff9e05fec703",
     "grade": true,
     "grade_id": "intro_q3_test",
     "locked": true,
     "points": 1,
     "schema_version": 3,
     "solution": false,
     "task": false
    }
   },
   "outputs": [],
   "source": [
    "test_1.3()"
   ]
  },
  {
   "cell_type": "markdown",
   "metadata": {
    "deletable": false,
    "editable": false,
    "nbgrader": {
     "cell_type": "markdown",
     "checksum": "50f4bbbd929143f00232e127a02fb0ae",
     "grade": false,
     "grade_id": "variable_intro",
     "locked": true,
     "schema_version": 3,
     "solution": false,
     "task": false
    }
   },
   "source": [
    "### 2. Welcome to the tidyverse\n",
    "Tidyverse is a *collection* of packages designed for data science (often called a \"meta\"--package). When you install and load tidyverse version 1.2.0, you are actually several core pacakges including: `dplyr`, `forcats`, `ggplot2`, `purrr`, `readr`, `stringr`, `tibble`, and `tidyr`. These packages all share a high-level design philosophy and low-level grammer and data structures. This makes it so that learning one package makes it easier to learn the others as well. \n",
    "\n",
    "#### Installation\n",
    "* In order to use an R package, you need to install the package. Note that you only need to install packages once.\n",
    "\n",
    "        install.packages(\"tidyverse\")\n",
    "        \n",
    "* After you have installed the package, you need to load the packages you want to use in your current R session.\n",
    "\n",
    "        library(tidyverse)\n",
    "        \n",
    "#### Core tidyverse packages \n",
    "\n",
    "**Bold** denotes packages used today\n",
    "\n",
    "| Package name  | Description                                                                                                                                                                                                                                                                                                                  | Cheetsheet                                                                                                     |\n",
    "|---------------|------------------------------------------------------------------------------------------------------------------------------------------------------------------------------------------------------------------------------------------------------------------------------------------------------------------------------|----------------------------------------------------------------------------------------------------------------|\n",
    "| **ggplot2**       | ggplot2 is a system for declaratively creating graphics, based on The Grammar of Graphics.<br>You provide the data, tell ggplot2 how to map variables to aesthetics, what graphical <br>primitives to use, and it takes care of the details.                                                                                 | Click [here](https://rstudio.com/wp-content/uploads/2015/03/ggplot2-cheatsheet.pdf) for cheatsheet!            |\n",
    "| **dplyr**         | dplyr provides a grammar of data manipulation, providing a consistent set of verbs that <br>solve the most common data manipulation challenges.                                                                                                                                                                              | Click [here](<br>https://github.com/rstudio/cheatsheets/blob/master/data-transformation.pdf) for cheatsheet!   |\n",
    "| tidyr         | tidyr provides a set of functions that help you get to tidy data. Tidy data is data with <br>a consistent form: in brief, every variable goes in a column, and every column is a variable                                                                                                                                    | Click [here](<br>https://rstudio.com/wp-content/uploads/2015/02/data-wrangling-cheatsheet.pdf) for cheatsheet! |\n",
    "| **readr**         | readr provides a fast and friendly way to read rectangular data (like csv, tsv, and fwf).<br>It is designed to flexibly parse many types of data found in the wild, while still cleanly <br>failing when data unexpectedly changes.                                                                                          | Click [here](<br>https://github.com/rstudio/cheatsheets/blob/master/data-import.pdf) for cheatsheet!           |\n",
    "| purrr         | purrr enhances R’s functional programming (FP) toolkit by providing a complete and consistent <br>set of tools for working with functions and vectors. Once you master the basic concepts, <br>purrr allows you to replace many for loops with code that is easier to write and more expressive.                             | Click [here](<br>https://github.com/rstudio/cheatsheets/blob/master/purrr.pdf) for cheatsheet!                 |\n",
    "| tibble        | tibble is a modern re-imagining of the data frame, keeping what time has proven to be effective, <br>and throwing out what it has not. Tibbles are data.frames that are lazy and surly: they do less <br>and complain more forcing you to confront problems earlier, typically leading to cleaner, more <br>expressive code. | Click [here](<br>https://miro.medium.com/max/700/1*fEGdnyXLzgeftfCLwvBZ5A.jpeg) for cheatsheet!                |\n",
    "| stringr       | stringr provides a cohesive set of functions designed to make working with strings as easy as <br>possible. It is built on top of stringi, which uses the ICU C library to provide fast, correct <br>implementations of common string manipulations.                                                                         | Click [here](<br>https://evoldyn.gitlab.io/evomics-2018/ref-sheets/R_strings.pdf) for cheatsheet!              |\n",
    "| forcats       | forcats provides a suite of useful tools that solve common problems with factors. R uses factors <br>to handle categorical variables, variables that have a fixed and known set of possible values.                                                                                                                          | Click [here](http://www.flutterbys.com.au/stats/downloads/slides/figure/factors.pdf) for cheatsheet!           |"
   ]
  },
  {
   "cell_type": "markdown",
   "metadata": {
    "deletable": false,
    "editable": false,
    "nbgrader": {
     "cell_type": "markdown",
     "checksum": "217a9ea27897363ce4324242659059f2",
     "grade": false,
     "grade_id": "variable_q1_text",
     "locked": true,
     "schema_version": 3,
     "solution": false,
     "task": false
    }
   },
   "source": [
    "#### Question 2.1\n",
    "Use the `library` function to fire up tidyverse! {Points:1}\n",
    "\n",
    "    library(FILL_THIS_IN)"
   ]
  },
  {
   "cell_type": "code",
   "execution_count": null,
   "metadata": {
    "deletable": false,
    "nbgrader": {
     "cell_type": "code",
     "checksum": "3307e8dc69184a21cb72ac87fa702b46",
     "grade": false,
     "grade_id": "variable_q1_question",
     "locked": false,
     "schema_version": 3,
     "solution": true,
     "task": false
    }
   },
   "outputs": [],
   "source": [
    "# your code here\n",
    "fail() # No Answer - remove if you provide an answer"
   ]
  },
  {
   "cell_type": "code",
   "execution_count": null,
   "metadata": {
    "deletable": false,
    "editable": false,
    "nbgrader": {
     "cell_type": "code",
     "checksum": "69e181f1794036c4bc461e1e7f87db00",
     "grade": true,
     "grade_id": "variable_q1_answer",
     "locked": true,
     "points": 1,
     "schema_version": 3,
     "solution": false,
     "task": false
    }
   },
   "outputs": [],
   "source": [
    "test_2.1()"
   ]
  },
  {
   "cell_type": "markdown",
   "metadata": {
    "deletable": false,
    "editable": false,
    "nbgrader": {
     "cell_type": "markdown",
     "checksum": "22e108dfa6aa31f577bd511d2b1a2c11",
     "grade": false,
     "grade_id": "variable_q2_text",
     "locked": true,
     "schema_version": 3,
     "solution": false,
     "task": false
    }
   },
   "source": [
    "#### Question 2.2\n",
    "Tidyverse crossword!\n",
    "\n",
    "You can complete this crossword about `tidyverse` functions, specifically, `dplyr`, `ggplot2`, and `readr`. You might not know about some of these functions so googling is highly encouraged. You do not need parentheses but some answers have underscores. \n",
    "\n",
    "To answer this question, assign the across words to lower case \"a\" followed by the number. Assign the down words to a lowercase \"d\" followed by the number. Make sure you answer all of the across questions in ascending order first before moving on to down for the autograder. Follow the guide below {Points: 1}\n",
    "\n",
    "    a3 <- FILL_THIS_IN\n",
    "    a5 <- FILL_THIS_IN\n",
    "    ...\n",
    "    ...\n",
    "    d12 <- FILL_THIS_IN\n",
    "\n",
    "You can solve for this puzzle [here](https://crosswordlabs.com/embed/2020-12-08-749) as well!"
   ]
  },
  {
   "cell_type": "markdown",
   "metadata": {
    "deletable": false,
    "editable": false,
    "nbgrader": {
     "cell_type": "markdown",
     "checksum": "5456cf69d666501af53419a364a7b52f",
     "grade": false,
     "grade_id": "crossword",
     "locked": true,
     "schema_version": 3,
     "solution": false,
     "task": false
    }
   },
   "source": [
    "<img src=\"img/crossword.png\" width=\"800\" height=\"800\">"
   ]
  },
  {
   "cell_type": "code",
   "execution_count": null,
   "metadata": {
    "deletable": false,
    "nbgrader": {
     "cell_type": "code",
     "checksum": "778c66a382327c7b0612c08782d18c0d",
     "grade": false,
     "grade_id": "variable_q2_question",
     "locked": false,
     "schema_version": 3,
     "solution": true,
     "task": false
    }
   },
   "outputs": [],
   "source": [
    "# your code here\n",
    "fail() # No Answer - remove if you provide an answer"
   ]
  },
  {
   "cell_type": "code",
   "execution_count": null,
   "metadata": {
    "deletable": false,
    "editable": false,
    "nbgrader": {
     "cell_type": "code",
     "checksum": "9624157d2b930e765c8c1c9bf701acbf",
     "grade": true,
     "grade_id": "variable_q2_answer",
     "locked": true,
     "points": 1,
     "schema_version": 3,
     "solution": false,
     "task": false
    }
   },
   "outputs": [],
   "source": [
    "test_2.2()"
   ]
  },
  {
   "cell_type": "markdown",
   "metadata": {
    "deletable": false,
    "editable": false,
    "nbgrader": {
     "cell_type": "markdown",
     "checksum": "353e6398ebc1ed9b6282b52c018365f4",
     "grade": false,
     "grade_id": "data_collection",
     "locked": true,
     "schema_version": 3,
     "solution": false,
     "task": false
    }
   },
   "source": [
    "### 3. Data collection\n",
    "![](https://media.giphy.com/media/Vn9JVHDAzYw1O/giphy.gif)\n",
    "*Source: https://giphy.com/gifs/brain-anatomy-Vn9JVHDAzYw1O*\n",
    "\n",
    "#### Background\n",
    "For this workshop, we will be working through a MRI and Alzheimer's data set made publicly available by Kaggle. You can find the original data set [here](https://www.kaggle.com/jboysen/mri-and-alzheimers). The original data was made available by the [Open Access Series of Imaging Studies (OASIS)](http://www.oasis-brains.org/) project. This was aimed at making MRI data sets freely available to the scientific community. OASIS was made available by the [Neuroinformatics Research Group (NRG)](http://nrg.wustl.edu/) at Washington University and the [Howard Hughes Medical Institude (HHMI)](http://www.hhmi.org/) at Harvard University.\n",
    "\n",
    "#### Alzheimer's Disease\n",
    "Alzheimer's disease is an irreversible, progressive brain disorder that slowly destroys memory, cognitive functions, and eventually, the ability to carry out the simplest tasks. In late onset, symptoms typically appear in their mid-60s while early onset symptoms typically appear between a person's 30s and mid 60s. In 1906, Dr. Alois Alzheimer noticed significant changes in the brain tissue of a women who died of an unusual mental illness. She experienced memory loss, language problems, and unpredictable behavior. An autopsy showed that her brain had many abnormal clumps (amyloid plaques) and tangled bundles of fibers (neurofibrillary). The damage initially takes place in the hippocampus but spreads to other brain regions. \n",
    "\n",
    "Experts predict that 5.5 million Americans age 65 and older may suffer from Alzheimer's. As well many under 65 suffer from it as well. \n",
    "\n",
    "#### Cross sectional data\n",
    "Kaggle offers two data sets but we will be working with the cross sectional data set `oasis_cross-sectional.csv`. \n",
    "\n",
    "*Cross-sectional MRI Data in Young, Middle Aged, Nondemented and Demented Older Adults:* This set consists of a cross-sectional collection of 416 subjects aged 18 to 96. For each subject, 3 or 4 individual T1-weighted MRI scans obtained in single scan sessions are included. The subjects are all right-handed and include both men and women. 100 of the included subjects over the age of 60 have been clinically diagnosed with very mild to moderate Alzheimer's disease (AD). Additionally, a reliability data set is included containing 20 nondemented subjects imaged on a subsequent visit within 90 days of their initial session.\n",
    "\n",
    "| Variable | Description                                                                                                                                                                            | Type    |\n",
    "|----------|----------------------------------------------------------------------------------------------------------------------------------------------------------------------------------------|---------|\n",
    "| ID       | Unique Id of the patient                                                                                                                                                               | String  |\n",
    "| M/F      | Gender                                                                                                                                                                                 | Boolean |\n",
    "| Hand     | handedness                                                                                                                                                                             | Boolean |\n",
    "| Age      | Age in years                                                                                                                                                                           | Integer |\n",
    "| Educ     | Education level in years                                                                                                                                                               | Integer |\n",
    "| SES      | Socioeconomic status as assessed by the Hollingshead Index of Social Position and <br>classified into categories from 1 (highest status) to 5 (lowest status)                          | Integer |\n",
    "| MNSE     | Mini Mental State Examination is a test of cognitive function and classified via<br>(range is from 0 = worst to 30 = best)                                                             | Integer |\n",
    "| CDR      | Clinical Dementia Rating (0 = no dementia, 0.5 = very mild AD, 1 = mild AD, <br> 2 = moderate AD, 3 = Severe AD)                                                                                           | Float   |\n",
    "| eTIV     | Estimated Total Intracranial Volume                                                                                                                                                    | Integer |\n",
    "| nWBV     | Normalized Whole Brain Volume expressed as a percent of all voxels in the atlas-masked image <br>that are labeled as gray or white matter by the automated tissue segmentation process | Float   |\n",
    "| ASF      | Atlas scaling factor (unitless). Computed scaling factor that transforms native-space brain <br>and skull to the atlas target (i.e., the determinant of the transform matrix)          | Float   |\n",
    "| Delay    | Delay time (contrast)                                                                                                                                                                  | Integer |\n",
    "\n",
    "#### Reading in the data set\n",
    "Using the `read_csv` function from the `readr` package (that is in the tidyverse package), we can load this data set into R. "
   ]
  },
  {
   "cell_type": "markdown",
   "metadata": {
    "deletable": false,
    "editable": false,
    "nbgrader": {
     "cell_type": "markdown",
     "checksum": "c1b06167b89693bbd00d1d345db9c058",
     "grade": false,
     "grade_id": "mc_31",
     "locked": true,
     "schema_version": 3,
     "solution": false,
     "task": false
    }
   },
   "source": [
    "#### Question 3.1\n",
    "\n",
    "Multiple choice: \n",
    "\n",
    "What is the `oasis_cross-sectional.csv` data set about? \n",
    "\n",
    "To answer this multiple choice question, assign your answer to `answer3.1` and make sure your response(s) are in upper case and in quotation marks (\"A\"). \n",
    "\n",
    "    answer3.1 <- FILL_THIS_IN\n",
    "\n",
    "A. Study conducted looking at predictors for drug addiction\n",
    "\n",
    "B. A data set that uses electroencephalography (EEG) to show brain activity in people with Alzheimer's disease\n",
    "\n",
    "C. A longitudinal MRI data set that looks at nondemented and demented oldr adults\n",
    "\n",
    "D. A cross-sectional MRI data set with young, middle-aged, nondemented, and demented older adults\n",
    "\n",
    "E. A data set that uses positron emission tomography (PET)"
   ]
  },
  {
   "cell_type": "code",
   "execution_count": null,
   "metadata": {
    "deletable": false,
    "nbgrader": {
     "cell_type": "code",
     "checksum": "76aec86891362a9c7e295301f0d82838",
     "grade": false,
     "grade_id": "mc31_answer",
     "locked": false,
     "schema_version": 3,
     "solution": true,
     "task": false
    }
   },
   "outputs": [],
   "source": [
    "# your code here\n",
    "fail() # No Answer - remove if you provide an answer"
   ]
  },
  {
   "cell_type": "code",
   "execution_count": null,
   "metadata": {
    "deletable": false,
    "editable": false,
    "nbgrader": {
     "cell_type": "code",
     "checksum": "4150b9ae17062272bc15c5979ccb9a66",
     "grade": true,
     "grade_id": "mc31_test",
     "locked": true,
     "points": 1,
     "schema_version": 3,
     "solution": false,
     "task": false
    }
   },
   "outputs": [],
   "source": [
    "test_3.1()"
   ]
  },
  {
   "cell_type": "markdown",
   "metadata": {
    "deletable": false,
    "editable": false,
    "nbgrader": {
     "cell_type": "markdown",
     "checksum": "fa6d28b2f457cb739c65f792732025ba",
     "grade": false,
     "grade_id": "mc32",
     "locked": true,
     "schema_version": 3,
     "solution": false,
     "task": false
    }
   },
   "source": [
    "#### Question 3.2 \n",
    "True or False: \n",
    "\n",
    "The Clinical Dementia Rating scale is classified from 1 (no Dementia) to 30 (severe Dementia). \n",
    "\n",
    "To answer this true or false question, assign your response to `answer3.2`. Make sure your submission is in all lower case and to surround your answer in quotation marks (\"true\"/\"false\"). \n",
    "\n",
    "    answer3.2 <- FILL_THIS_IN"
   ]
  },
  {
   "cell_type": "code",
   "execution_count": null,
   "metadata": {
    "deletable": false,
    "nbgrader": {
     "cell_type": "code",
     "checksum": "cb64d1ef6c9a210889c678140df2e08a",
     "grade": false,
     "grade_id": "mc32_answer",
     "locked": false,
     "schema_version": 3,
     "solution": true,
     "task": false
    }
   },
   "outputs": [],
   "source": [
    "# your code here\n",
    "fail() # No Answer - remove if you provide an answer"
   ]
  },
  {
   "cell_type": "code",
   "execution_count": null,
   "metadata": {
    "deletable": false,
    "editable": false,
    "nbgrader": {
     "cell_type": "code",
     "checksum": "5eb71163af85f202127389dd7ef8690b",
     "grade": true,
     "grade_id": "mc32_test",
     "locked": true,
     "points": 1,
     "schema_version": 3,
     "solution": false,
     "task": false
    }
   },
   "outputs": [],
   "source": [
    "test_3.2()"
   ]
  },
  {
   "cell_type": "markdown",
   "metadata": {
    "deletable": false,
    "editable": false,
    "nbgrader": {
     "cell_type": "markdown",
     "checksum": "c31ea013e847ab791e68c8fd916f043a",
     "grade": false,
     "grade_id": "read_in",
     "locked": true,
     "schema_version": 3,
     "solution": false,
     "task": false
    }
   },
   "source": [
    "#### Question 3. 3\n",
    "If we just load the data into R, it will be printed on the screen but you cannot do anything to it. If we want to work with it, we need to give it a name so that we can call upon it and manipulate it moving forward. Create a new variable called `mri_data` and assign the `oasis_cross-sectional.csv` data set to it. \n",
    "\n",
    "    FILL_THIS_IN <- read_csv(\"data/FILL_THIS_IN\")"
   ]
  },
  {
   "cell_type": "code",
   "execution_count": null,
   "metadata": {
    "deletable": false,
    "nbgrader": {
     "cell_type": "code",
     "checksum": "9ff14f637099c26b7c85b8f316d37520",
     "grade": false,
     "grade_id": "read_in_answer",
     "locked": false,
     "schema_version": 3,
     "solution": true,
     "task": false
    }
   },
   "outputs": [],
   "source": [
    "# your code here\n",
    "fail() # No Answer - remove if you provide an answer\n",
    "head(mri_data) # prints the first 6 lines "
   ]
  },
  {
   "cell_type": "code",
   "execution_count": null,
   "metadata": {
    "deletable": false,
    "editable": false,
    "nbgrader": {
     "cell_type": "code",
     "checksum": "553745c69d0ff7bacaf4f13c85bbce98",
     "grade": true,
     "grade_id": "readin_test",
     "locked": true,
     "points": 1,
     "schema_version": 3,
     "solution": false,
     "task": false
    }
   },
   "outputs": [],
   "source": [
    "test_3.3()"
   ]
  },
  {
   "cell_type": "markdown",
   "metadata": {
    "deletable": false,
    "editable": false,
    "nbgrader": {
     "cell_type": "markdown",
     "checksum": "2b51ab4c94da3ce87a171e8f8f96d9c6",
     "grade": false,
     "grade_id": "mc34_question",
     "locked": true,
     "schema_version": 3,
     "solution": false,
     "task": false
    }
   },
   "source": [
    "#### Question 3.4\n",
    "\n",
    "Now that we have read in the data, let's take a look at it. In question 3.3, we used the `head()` function to look at the first 6 entries. Now, use the `tail()` function to take a look at the last 6 entries and find out the last patient's (`OAS1_0395_MR2`) age.  \n",
    "\n",
    "To answer this question, assign your answer to `answer3.4`.\n",
    "\n",
    "    answer3.4 <- FILL_THIS_IN"
   ]
  },
  {
   "cell_type": "code",
   "execution_count": null,
   "metadata": {
    "deletable": false,
    "nbgrader": {
     "cell_type": "code",
     "checksum": "200a18bf35af6ba8c74925b22dd3b5ac",
     "grade": false,
     "grade_id": "34_answer",
     "locked": false,
     "schema_version": 3,
     "solution": true,
     "task": false
    }
   },
   "outputs": [],
   "source": [
    "# your code here\n",
    "fail() # No Answer - remove if you provide an answer"
   ]
  },
  {
   "cell_type": "code",
   "execution_count": null,
   "metadata": {
    "deletable": false,
    "editable": false,
    "nbgrader": {
     "cell_type": "code",
     "checksum": "b6ecd43a621c5a4e356a039bbc05e04a",
     "grade": true,
     "grade_id": "mc34_test",
     "locked": true,
     "points": 1,
     "schema_version": 3,
     "solution": false,
     "task": false
    }
   },
   "outputs": [],
   "source": [
    "test_3.4()"
   ]
  },
  {
   "cell_type": "markdown",
   "metadata": {
    "deletable": false,
    "editable": false,
    "nbgrader": {
     "cell_type": "markdown",
     "checksum": "61d7cf568cd01b8831725b7acdfd8dc3",
     "grade": false,
     "grade_id": "cell-4ad3707e95256dc6",
     "locked": true,
     "schema_version": 3,
     "solution": false,
     "task": false
    }
   },
   "source": [
    "### 4. Data Wrangling\n",
    "\n",
    "Before we create any graphs or models, we need to tweak the data to make it easier to work with. Some common manipulations include renaming variables or creating new variables. To do this, we will use the `dplyr` package. We will look at three of the most common functions in this package:\n",
    "\n",
    "    1. select()\n",
    "    2. filter()\n",
    "    3. mutate()\n",
    "    \n",
    "<img src=\"img/dplyr.jpg\" width=\"500\" height=\"300\">\n",
    "\n",
    "*Source: Allison Horst*\n",
    "    \n",
    "### 4.1 `select()`\n",
    "The `select()` function allows you to select and work with the variable you want and find relevant. \n",
    "\n",
    "<img src=\"img/select.png\" width=\"500\" height=\"300\">\n",
    "\n",
    "*Source: https://datacarpentry.org/r-intro-geospatial/06-dplyr/*"
   ]
  },
  {
   "cell_type": "markdown",
   "metadata": {
    "deletable": false,
    "editable": false,
    "nbgrader": {
     "cell_type": "markdown",
     "checksum": "d3df73421f8fc9e7ea8b01a2f1b471ba",
     "grade": false,
     "grade_id": "cell-cd741374a2ff558f",
     "locked": true,
     "schema_version": 3,
     "solution": false,
     "task": false
    }
   },
   "source": [
    "#### Question 4.1 \n",
    "Say we are only interested in the age of the participants. Use the select function on `mri_data` so that only have the age of the participants. \n",
    "\n",
    "To answer this question, call the new data frame `answer4.1`\n",
    "\n",
    "    answer4.1 <- select(mri_data, FILL_THIS_IN)"
   ]
  },
  {
   "cell_type": "code",
   "execution_count": null,
   "metadata": {
    "deletable": false,
    "nbgrader": {
     "cell_type": "code",
     "checksum": "2e09e6beea7ac7bdae034550edc855ab",
     "grade": false,
     "grade_id": "cell-696091d66e2dbaf9",
     "locked": false,
     "schema_version": 3,
     "solution": true,
     "task": false
    }
   },
   "outputs": [],
   "source": [
    "# your code here\n",
    "fail() # No Answer - remove if you provide an answer\n",
    "head(answer4.1)"
   ]
  },
  {
   "cell_type": "code",
   "execution_count": null,
   "metadata": {
    "nbgrader": {
     "grade": false,
     "grade_id": "cell-cc8c7a7042cfa644",
     "locked": false,
     "schema_version": 3,
     "solution": false,
     "task": false
    }
   },
   "outputs": [],
   "source": [
    "test_4.1()"
   ]
  },
  {
   "cell_type": "markdown",
   "metadata": {
    "deletable": false,
    "editable": false,
    "nbgrader": {
     "cell_type": "markdown",
     "checksum": "7d74af7dce09e4cc08fde1880d5bc09c",
     "grade": false,
     "grade_id": "cell-614525b495eaa1c5",
     "locked": true,
     "schema_version": 3,
     "solution": false,
     "task": false
    }
   },
   "source": [
    "#### Question 4.2\n",
    "Now, we are only interested in the demographics information. Select ID, M/F, Hand, Age, Educ, and SES. \n",
    "\n",
    "We can use this code:\n",
    "\n",
    "    select(mri_data, ID, \"M/F\", Hand, Age, Educ, SES)\n",
    "    \n",
    "But there is a much faster way to select multiple columns using \":\". Use the select function and : to create a new variable called `answer4.2` that contains the demographic data. \n",
    "\n",
    "    answer4.2 <- (FILL_THIS_IN, FILL_THIS_IN:FILL_THIS_IN)"
   ]
  },
  {
   "cell_type": "code",
   "execution_count": null,
   "metadata": {
    "deletable": false,
    "nbgrader": {
     "cell_type": "code",
     "checksum": "e66723197e55fe5c7c887fd1be02e29a",
     "grade": false,
     "grade_id": "cell-5e627fd68fdf67f9",
     "locked": false,
     "schema_version": 3,
     "solution": true,
     "task": false
    }
   },
   "outputs": [],
   "source": [
    "# your code here\n",
    "fail() # No Answer - remove if you provide an answer\n",
    "head(answer4.2)"
   ]
  },
  {
   "cell_type": "code",
   "execution_count": null,
   "metadata": {
    "deletable": false,
    "editable": false,
    "nbgrader": {
     "cell_type": "code",
     "checksum": "b937a0e89981390c18793f71f41fa018",
     "grade": true,
     "grade_id": "cell-c10f35a40e9a818a",
     "locked": true,
     "points": 1,
     "schema_version": 3,
     "solution": false,
     "task": false
    }
   },
   "outputs": [],
   "source": [
    "test_4.2()"
   ]
  },
  {
   "cell_type": "markdown",
   "metadata": {
    "deletable": false,
    "editable": false,
    "nbgrader": {
     "cell_type": "markdown",
     "checksum": "dd6baad4c39e75762ae35f7277a68336",
     "grade": false,
     "grade_id": "cell-ac7bef9f2bf2ab30",
     "locked": true,
     "schema_version": 3,
     "solution": false,
     "task": false
    }
   },
   "source": [
    "#### Question 4.4\n",
    "\n",
    "Now, select *every* column except Delay. We will not be needing the variable moving forward. \n",
    "\n",
    "We can manually type out all of the columns we want\n",
    "\n",
    "    select(mri_data, ID, \"M/F\", Hand, Age, Educ, SES ... ASF)\n",
    "\n",
    "Or, we can simply tell R which columns we *don't* want via the minus sign. create a new variable called `answer4.4` with every column except Delay.\n",
    "\n",
    "    select(FILL_THIS_IN, -FILL_THIS_IN)"
   ]
  },
  {
   "cell_type": "code",
   "execution_count": null,
   "metadata": {
    "deletable": false,
    "nbgrader": {
     "cell_type": "code",
     "checksum": "6d9a771bda0dd01a5298f7f837e06cf8",
     "grade": false,
     "grade_id": "cell-d78858832fe238e1",
     "locked": false,
     "schema_version": 3,
     "solution": true,
     "task": false
    }
   },
   "outputs": [],
   "source": [
    "# your code here\n",
    "fail() # No Answer - remove if you provide an answer\n",
    "head(answer4.3)"
   ]
  },
  {
   "cell_type": "code",
   "execution_count": null,
   "metadata": {
    "deletable": false,
    "editable": false,
    "nbgrader": {
     "cell_type": "code",
     "checksum": "da8777f07820b23f4ade2633d95dcc30",
     "grade": true,
     "grade_id": "cell-49e7ff2c14b6abaf",
     "locked": true,
     "points": 1,
     "schema_version": 3,
     "solution": false,
     "task": false
    }
   },
   "outputs": [],
   "source": [
    "test_4.3()"
   ]
  },
  {
   "cell_type": "markdown",
   "metadata": {
    "deletable": false,
    "editable": false,
    "nbgrader": {
     "cell_type": "markdown",
     "checksum": "c94f4896caa82b5f739f5ffe00c764b8",
     "grade": false,
     "grade_id": "cell-64eaa814434123b0",
     "locked": true,
     "schema_version": 3,
     "solution": false,
     "task": false
    }
   },
   "source": [
    "#### Question 4.4\n",
    "If you want to look at the gender distribution, you will encounter an error because of how it is named. We need to use quotations in order to use it. Let's rename this variable to something that is easier to work with. Rename M/F to `gender` and create a new object called `answer4.4`. Remember to use our new data frame `answer4.3`.\n",
    "\n",
    "Hint there is a `rename()` function!\n",
    "\n",
    "    answer4.4 <- FILL_THIS_IN(answer4.3, gender = FILL_THIS_IN)"
   ]
  },
  {
   "cell_type": "code",
   "execution_count": null,
   "metadata": {
    "deletable": false,
    "nbgrader": {
     "cell_type": "code",
     "checksum": "26bdc4d5496a3368102a243ed8290aef",
     "grade": false,
     "grade_id": "cell-c81f7cc8e1f3dd30",
     "locked": false,
     "schema_version": 3,
     "solution": true,
     "task": false
    }
   },
   "outputs": [],
   "source": [
    "# your code here\n",
    "fail() # No Answer - remove if you provide an answer\n",
    "head(answer4.4)"
   ]
  },
  {
   "cell_type": "code",
   "execution_count": null,
   "metadata": {
    "deletable": false,
    "editable": false,
    "nbgrader": {
     "cell_type": "code",
     "checksum": "61639f2bf10aaeb21e36a4d35939ae29",
     "grade": true,
     "grade_id": "cell-dcc7e59acdc8aea9",
     "locked": true,
     "points": 1,
     "schema_version": 3,
     "solution": false,
     "task": false
    }
   },
   "outputs": [],
   "source": [
    "test_4.4()"
   ]
  },
  {
   "cell_type": "markdown",
   "metadata": {
    "deletable": false,
    "editable": false,
    "nbgrader": {
     "cell_type": "markdown",
     "checksum": "2c6974a16c118bd4a3a3e62eeba188a9",
     "grade": false,
     "grade_id": "cell-6dfd5bfbce392b2b",
     "locked": true,
     "schema_version": 3,
     "solution": false,
     "task": false
    }
   },
   "source": [
    "### 4.2 `filter()`\n",
    "\n",
    "We can use the `filter()` function to keep observations that meet our criteria. \n",
    "\n",
    "<img src=\"img/filter.jpg\" width=\"600\" height=\"300\">\n",
    "\n",
    "*Source: Allison Horst*\n"
   ]
  },
  {
   "cell_type": "markdown",
   "metadata": {
    "deletable": false,
    "editable": false,
    "nbgrader": {
     "cell_type": "markdown",
     "checksum": "6c9c0b67c59c6d8073dfb90bebde74c6",
     "grade": false,
     "grade_id": "cell-61c1d0dc288a991d",
     "locked": true,
     "schema_version": 3,
     "solution": false,
     "task": false
    }
   },
   "source": [
    "#### Question 4.5\n",
    "\n",
    "As you know, Alzheimer's mainly affect the older population. As such, we want to look filter our data so that we only have participants that are over 60 years old. Using `answer4.4` create a new object called `answer4.5` so that we only have older adults.\n",
    "\n",
    "    answer4.5 <- filter(FILL_THIS_IN, FILL_THIS_IN)"
   ]
  },
  {
   "cell_type": "code",
   "execution_count": null,
   "metadata": {
    "deletable": false,
    "nbgrader": {
     "cell_type": "code",
     "checksum": "3801ce5898a1923fe16be94c5ad4df0d",
     "grade": false,
     "grade_id": "cell-749c5d0ab9006590",
     "locked": false,
     "schema_version": 3,
     "solution": true,
     "task": false
    }
   },
   "outputs": [],
   "source": [
    "# your code here\n",
    "fail() # No Answer - remove if you provide an answer\n",
    "head(answer4.5)"
   ]
  },
  {
   "cell_type": "code",
   "execution_count": null,
   "metadata": {
    "deletable": false,
    "editable": false,
    "nbgrader": {
     "cell_type": "code",
     "checksum": "3e0724531fec7a0aeac5290309b92248",
     "grade": true,
     "grade_id": "cell-5f518a84f1f01605",
     "locked": true,
     "points": 1,
     "schema_version": 3,
     "solution": false,
     "task": false
    }
   },
   "outputs": [],
   "source": [
    "test_4.5()"
   ]
  },
  {
   "cell_type": "markdown",
   "metadata": {
    "deletable": false,
    "editable": false,
    "nbgrader": {
     "cell_type": "markdown",
     "checksum": "51dc3d487cf9e4b57ed35920c3c4f268",
     "grade": false,
     "grade_id": "cell-f3814a685c3dc383",
     "locked": true,
     "schema_version": 3,
     "solution": false,
     "task": false
    }
   },
   "source": [
    "#### Question 4.6 \n",
    "\n",
    "Now, to practice, from `answer4.5`, take only the data from females. Create a new object variable called `answer4.6`.\n",
    "\n",
    "    answer4.6 <- FILL_THIS_IN(FILL_THIS_IN, FILL_THIS_IN == FILL_THIS_IN)"
   ]
  },
  {
   "cell_type": "code",
   "execution_count": null,
   "metadata": {
    "deletable": false,
    "nbgrader": {
     "cell_type": "code",
     "checksum": "909a632641f8ef6a4f83841705ebbff3",
     "grade": false,
     "grade_id": "cell-1ca7cacd67164887",
     "locked": false,
     "schema_version": 3,
     "solution": true,
     "task": false
    }
   },
   "outputs": [],
   "source": [
    "# your code here\n",
    "fail() # No Answer - remove if you provide an answer\n",
    "head(answer4.6)"
   ]
  },
  {
   "cell_type": "code",
   "execution_count": null,
   "metadata": {
    "deletable": false,
    "editable": false,
    "nbgrader": {
     "cell_type": "code",
     "checksum": "3c1a52ecf7021dfa98335338e4babb1a",
     "grade": true,
     "grade_id": "cell-774967518f0d8ed0",
     "locked": true,
     "points": 1,
     "schema_version": 3,
     "solution": false,
     "task": false
    }
   },
   "outputs": [],
   "source": [
    "test_4.6()"
   ]
  },
  {
   "cell_type": "markdown",
   "metadata": {
    "deletable": false,
    "editable": false,
    "nbgrader": {
     "cell_type": "markdown",
     "checksum": "66d88b002b256618834e59ed6c5b28e4",
     "grade": false,
     "grade_id": "cell-e4903a8edbae795b",
     "locked": true,
     "schema_version": 3,
     "solution": false,
     "task": false
    }
   },
   "source": [
    "### 4.3 `mutate()`\n",
    "\n",
    "We can use the `mutate()` function to create new variables while preserving existing ones. Mutate will create a new column at the end of your data set. \n",
    "\n",
    "<img src=\"img/mutate.jpg\" width=\"400\" height=\"400\">\n",
    "\n",
    "*Source: Allison Horst*\n"
   ]
  },
  {
   "cell_type": "markdown",
   "metadata": {
    "deletable": false,
    "editable": false,
    "nbgrader": {
     "cell_type": "markdown",
     "checksum": "24c14fe21344e49055197881d5155b00",
     "grade": false,
     "grade_id": "cell-e4ae7713713b13ec",
     "locked": true,
     "schema_version": 3,
     "solution": false,
     "task": false
    }
   },
   "source": [
    "#### Question 4.7\n",
    "\n",
    "We can calculate the \"risk score\" for developing Alzheimer's by adding up their socioeconomic status (SES), Mini Mental State Examination score (MMSE), and Clinical Dementia Rating (CDR). Create a new column in the `answer4.6` data frame called `risk_score`. Call this new data frame `answer4.7`. This new column should be the sum of the three predictive scores. \n",
    "\n",
    "    answer4.7 <- FILL_THIS_IN(answer4.6, \n",
    "        FILL_THIS_IN = FILL_THIS_IN + FILL_THIS_IN + FILL_THIS_IN)\n",
    "        \n",
    "**NOTE:** Risk Score was completely made up for teaching purposes. "
   ]
  },
  {
   "cell_type": "code",
   "execution_count": null,
   "metadata": {
    "deletable": false,
    "nbgrader": {
     "cell_type": "code",
     "checksum": "b0556a680dbc7085fc74ce3682aecf69",
     "grade": false,
     "grade_id": "cell-0baad99234afbb91",
     "locked": false,
     "schema_version": 3,
     "solution": true,
     "task": false
    }
   },
   "outputs": [],
   "source": [
    "# your code here\n",
    "fail() # No Answer - remove if you provide an answer\n",
    "head(answer4.7)"
   ]
  },
  {
   "cell_type": "code",
   "execution_count": null,
   "metadata": {
    "deletable": false,
    "editable": false,
    "nbgrader": {
     "cell_type": "code",
     "checksum": "4d78cedda8f083b8b6c9afa2cf71202b",
     "grade": true,
     "grade_id": "cell-2081062d4f6d98f2",
     "locked": true,
     "points": 1,
     "schema_version": 3,
     "solution": false,
     "task": false
    }
   },
   "outputs": [],
   "source": [
    "test_4.7()"
   ]
  },
  {
   "cell_type": "markdown",
   "metadata": {
    "deletable": false,
    "editable": false,
    "nbgrader": {
     "cell_type": "markdown",
     "checksum": "accc83934023195ef2ab8451e2570d76",
     "grade": false,
     "grade_id": "cell-87f70c39efcd7eb2",
     "locked": true,
     "schema_version": 3,
     "solution": false,
     "task": false
    }
   },
   "source": [
    "### 5. Data Visualization\n",
    "In the final section of this workshop, we will cover how to make plots via `ggplot2`!\n",
    "<img src=\"img/ggplot2.jpg\" width=\"400\" height=\"400\">\n",
    "\n",
    "*Source: Allison Horst*\n",
    "\n",
    "### 5.1 Grammar of graphics\n",
    "ggplot2 follows the grammar of graphics principle by Leland Wilkinson. Before this, there were functions for each graph - a line graph, bar graph, etc. Wilkinson did not like this because this became complex and unmanageable really fast (imagine creating a new function for every plot). As such, he set out to look for what all graphs have in common - the grammar of graphics. He proposed that these 8 constituents of graphics can become the bedrock for *every* plot.  \n",
    "\n",
    "<img src=\"img/ggplot-2.png\" width=\"400\" height=\"400\">\n",
    "\n",
    "*Source: https://www.science-craft.com/2014/07/08/introducing-the-grammar-of-graphics-plotting-concept/*\n",
    "\n",
    "\n",
    "### 5.2 Themes\n",
    "I like to teach beginners how to use themes because the default theme R gives you is really ugly (in my opinion). You can easily change the theme by adding the theme name to your code. I created the graph below using the plot you will create in question 5.2. It is the same graph, I just applied all the different base themes available in R.\n",
    "\n",
    "        plot + theme_bw() #example\n",
    "\n",
    "<img src=\"img/ggthemes.png\" width=\"500\" height=\"500\">\n",
    "\n",
    "*Source: [Andrew Li](http://andrewcli.me)*"
   ]
  },
  {
   "cell_type": "markdown",
   "metadata": {
    "deletable": false,
    "editable": false,
    "nbgrader": {
     "cell_type": "markdown",
     "checksum": "66be18a0e2dac5d62d766ab10091f627",
     "grade": false,
     "grade_id": "cell-a94da89160424a78",
     "locked": true,
     "schema_version": 3,
     "solution": false,
     "task": false
    }
   },
   "source": [
    "#### Question 5.1 \n",
    "\n",
    "Let's bring it all together! Using our original data set `mri_data`, create a new data frame called `mri_tidy` that has the following:\n",
    "\n",
    "1. Only contains participants who is 60 years old or greater\n",
    "2. Create a new `risk_score` column which is the sum of SES, MMSE, and CDR\n",
    "3. Rename the M/F column name to `gender`\n",
    "\n",
    "        mri_tidy <- mri_data %>%\n",
    "            FILL_THIS_IN(Age FILL_THIS_IN) %>%\n",
    "            FILL_THIS_IN(FILL_THIS_IN = SES + MMSE + CDR) %>%\n",
    "            FILL_THIS_IN(FILL_THIS_IN = \"M/F\") \n",
    "           \n",
    "**NOTE:** The `%>%` is called the pipe operator. This comes in handy when you want to perform multiple functions like question 5.1. The pipe operator will forward the result of an expression into the next expression.\n",
    "\n",
    "    filter(mri_data, SES == 3)\n",
    "    \n",
    "Is the same as\n",
    "\n",
    "    mri_data %>% filter(SES == 3)"
   ]
  },
  {
   "cell_type": "code",
   "execution_count": null,
   "metadata": {
    "deletable": false,
    "nbgrader": {
     "cell_type": "code",
     "checksum": "1007238d7cc23d87b32bb794a702bdff",
     "grade": false,
     "grade_id": "cell-6de34feef99a37dc",
     "locked": false,
     "schema_version": 3,
     "solution": true,
     "task": false
    }
   },
   "outputs": [],
   "source": [
    "# your code here\n",
    "fail() # No Answer - remove if you provide an answer\n",
    "head(mri_data)"
   ]
  },
  {
   "cell_type": "code",
   "execution_count": null,
   "metadata": {
    "deletable": false,
    "editable": false,
    "nbgrader": {
     "cell_type": "code",
     "checksum": "b57893ddbb604ec804a1e58ae86d4536",
     "grade": true,
     "grade_id": "cell-3ea99e5e0bec60bc",
     "locked": true,
     "points": 1,
     "schema_version": 3,
     "solution": false,
     "task": false
    }
   },
   "outputs": [],
   "source": [
    "test_5.1()"
   ]
  },
  {
   "cell_type": "markdown",
   "metadata": {
    "deletable": false,
    "editable": false,
    "nbgrader": {
     "cell_type": "markdown",
     "checksum": "093ca275e098792fefe5449fabcda8f6",
     "grade": false,
     "grade_id": "cell-23cf192dc2bb6ae4",
     "locked": true,
     "schema_version": 3,
     "solution": false,
     "task": false
    }
   },
   "source": [
    "#### Question 5.2\n",
    "\n",
    "Let's take a look at relationship between the **Clinical Dementia Score** (CDR) and the **Mini Mental State Examination** (MMSE). As well, we want to see the difference between **genders**. Using the following parameters, create a boxplot to look at this relationship:\n",
    "\n",
    "* CDR should be on the x-axis and MMSE should be the y-axis\n",
    "* Color by gender\n",
    "* Set the transparency (alpha) to 0.8\n",
    "* Rename the x-axis, y-axis, and legend title so that it is descriptive and human readable\n",
    "    * x-axis: `Clinical Dementia Score`\n",
    "    * y-axis: `Mini Mental State Examination`\n",
    "    * legend title: `Gender` (simply capitalize it)\n",
    "* Create a title `MRI and Alzheimer's`\n",
    "* Change the theme (optional)\n",
    "\n",
    "Store the result in a variable called `answer5.2`\n",
    "\n",
    "    answer5.2 <- mri_tidy %>%\n",
    "        ggplot(aes(x = as.factor(FILL_THIS_IN), y = FILL_THIS_IN, fill = FILL_THIS_IN)) +\n",
    "        geom_boxplot(FILL_THIS_IN) +\n",
    "        xlab(FILL_THIS_IN) +\n",
    "        ylab(FILL_THIS_IN) +\n",
    "        labs(fill = \"Gender\") +\n",
    "        ggtitle(FILL_THIS_IN) + \n",
    "        theme_classic() # you can play around and try different themes\n",
    "        \n",
    "Or you can use this:\n",
    "\n",
    "    answer5.2 <- mri_tidy %>%\n",
    "        ggplot(aes(x = as.factor(FILL_THIS_IN), y = FILL_THIS_IN, fill = FILL_THIS_IN)) +\n",
    "        geom_boxplot(FILL_THIS_IN) +\n",
    "        labs(x = FILL_THIS_IN, y = FILL_THIS_IN, title = FILL_THIS_IN, fill = FILL_THIS_IN) +\n",
    "        theme_classic() # you can play around and try different themes"
   ]
  },
  {
   "cell_type": "code",
   "execution_count": null,
   "metadata": {
    "deletable": false,
    "nbgrader": {
     "cell_type": "code",
     "checksum": "dbc11a7c6cc8366dc472c576b7055e3e",
     "grade": false,
     "grade_id": "cell-7cd1d960a53ef016",
     "locked": false,
     "schema_version": 3,
     "solution": true,
     "task": false
    }
   },
   "outputs": [],
   "source": [
    "# your code here\n",
    "fail() # No Answer - remove if you provide an answer\n",
    "answer5.2"
   ]
  },
  {
   "cell_type": "code",
   "execution_count": null,
   "metadata": {
    "deletable": false,
    "editable": false,
    "nbgrader": {
     "cell_type": "code",
     "checksum": "c192446359a6a50bc0c8a6b7af1ccc31",
     "grade": true,
     "grade_id": "cell-e02b83869d434916",
     "locked": true,
     "points": 1,
     "schema_version": 3,
     "solution": false,
     "task": false
    }
   },
   "outputs": [],
   "source": [
    "test_5.2()"
   ]
  },
  {
   "cell_type": "markdown",
   "metadata": {
    "deletable": false,
    "editable": false,
    "nbgrader": {
     "cell_type": "markdown",
     "checksum": "a0efae338e7a99d974e1152bf0e70835",
     "grade": false,
     "grade_id": "cell-394cb9fcb5729485",
     "locked": true,
     "schema_version": 3,
     "solution": false,
     "task": false
    }
   },
   "source": [
    "### 6. Putting it all together\n",
    "\n",
    "In this last section, we will use everything we have learned thus far! We will be working on creating this graph below. __Note__ that this last section might be tricky but the goal of this section is to show you how customizable ggplot is. If there is something you haven't learned yet, I will provide the code.\n",
    "\n",
    "<img src=\"img/tbi_deaths.png\" width=\"600\" height=\"600\">\n",
    "\n",
    "*Source: [Andrew Li](http://andrewcli.me)*\n",
    "\n",
    "### 6.1 Data collection - Traumatic Brain Injury (TBI)\n",
    "\n",
    "We will be taking the data from tidytuesday - a weekly social data project in R where users explore a new data set each week. This data set will look into [traumatic brain injury](https://github.com/rfordatascience/tidytuesday/blob/master/data/2020/2020-03-24/readme.md) and how common it is. The original data comes from the [CDC](https://www.cdc.gov/traumaticbraininjury/pdf/TBI-Surveillance-Report-FINAL_508.pdf) and [Veterans Brain Injury Center](https://dvbic.dcoe.mil/dod-worldwide-numbers-tbi).\n",
    "\n",
    "> Brain Injury Awareness Month, observed each March, was established 3 decades ago to educate the public about the incidence of brain injury and the needs of persons with brain injuries and their families (1). Caused by a bump, blow, or jolt to the head, or penetrating head injury, a traumatic brain injury (TBI) can lead to short- or long-term changes affecting thinking, sensation, language, or emotion.\n",
    "\n",
    "<img src=\"img/tbi_summary.png\" width=\"800\" height=\"200\">\n",
    "\n",
    "*Source: [CDC](https://www.cdc.gov/mmwr/volumes/68/wr/mm6810a1.htm)*\n",
    "\n",
    "#### 6.1.1 Variables \n",
    "\n",
    "| Variable         | Description                      | Type   |\n",
    "|------------------|----------------------------------|--------|\n",
    "| age_group        | Age group                        | string |\n",
    "| type             | Type of measure                  | string |\n",
    "| injury_mechanism | Injury mechanism                 | string |\n",
    "| number_est       | Estimated observed cases in 2014 | Integer|\n",
    "| rate_est         | Rate/100,000 in 2014             | float  |\n",
    "\n",
    "#### 6.1.2 The question we want to answer\n",
    "\n",
    "What are the leading causes of traumatic brain injury related deaths by age group?"
   ]
  },
  {
   "cell_type": "markdown",
   "metadata": {
    "deletable": false,
    "editable": false,
    "nbgrader": {
     "cell_type": "markdown",
     "checksum": "05c626a8b9f84d69de6cd7ae17ba07d8",
     "grade": false,
     "grade_id": "cell-9bb81866008185ff",
     "locked": true,
     "schema_version": 3,
     "solution": false,
     "task": false
    }
   },
   "source": [
    "#### Question 6.1 \n",
    "\n",
    "Use the `read_csv()` function to load the data into this session. Name the variable `tbi_age`. \n",
    "\n",
    "FILL_THIS_IN <- FILL_THIS_IN('https://raw.githubusercontent.com/rfordatascience/tidytuesday/master/data/2020/2020-03-24/tbi_age.csv')"
   ]
  },
  {
   "cell_type": "code",
   "execution_count": null,
   "metadata": {
    "deletable": false,
    "nbgrader": {
     "cell_type": "code",
     "checksum": "e8254b399d096647513f587f46dcb669",
     "grade": false,
     "grade_id": "cell-46c7f548488a001e",
     "locked": false,
     "schema_version": 3,
     "solution": true,
     "task": false
    }
   },
   "outputs": [],
   "source": [
    "# your code here\n",
    "fail() # No Answer - remove if you provide an answer\n",
    "head(tbi_age) # prints the first 6 lines"
   ]
  },
  {
   "cell_type": "code",
   "execution_count": null,
   "metadata": {
    "deletable": false,
    "editable": false,
    "nbgrader": {
     "cell_type": "code",
     "checksum": "17314e56293f26d6f163c8f116cda29c",
     "grade": true,
     "grade_id": "cell-35f12bc8c3292552",
     "locked": true,
     "points": 1,
     "schema_version": 3,
     "solution": false,
     "task": false
    }
   },
   "outputs": [],
   "source": [
    "test_6.1()"
   ]
  },
  {
   "cell_type": "markdown",
   "metadata": {
    "deletable": false,
    "editable": false,
    "nbgrader": {
     "cell_type": "markdown",
     "checksum": "d70ecd0afd4685f4792acffeb34c3908",
     "grade": false,
     "grade_id": "cell-e28bb837e424d445",
     "locked": true,
     "schema_version": 3,
     "solution": false,
     "task": false
    }
   },
   "source": [
    "#### Question 6.2 \n",
    "\n",
    "Now that we have loaded the data, we need to clean it up a bit. Using `tbi_age` conduct the following manipulations: \n",
    "\n",
    "1. Using the `filter()` function we will:\n",
    "    * Notice that in the `age_group` column, **0-17** seems pretty useless. Let's get rid of it. Use the != operator.\n",
    "    * We do not need the **Total** in `age_group`, let's get rid of it as well.\n",
    "    * **Other or no mechanism specified** in the `injury_mechanism` column isn't that informative. Let's get rid of it.\n",
    "    * We are only interested in **Deaths**. Use the == operator to filter that from `type`.\n",
    "\n",
    "\n",
    "\n",
    "2. Using the `mutate()` function we will:\n",
    "    * Create a new column called `pct` whereby we will divide `number_est` by the sum (`sum()`) of itself.\n",
    "    * Turn all columns that are strings to factors. We will use the `factor()` function. Keep the original names of the columns. \n",
    "    * Reorder `age_group` into ascending order. (See what happens to our plot if we skip this step!)\n",
    "\n",
    "\n",
    "\n",
    "3. We need to get rid of missing values. We can do this via `na.omit()`.\n",
    "\n",
    "\n",
    "\n",
    "4. Assign this new tidy data set to an object called `tbi_age_tidy`.\n",
    "\n",
    "Follow the following skeleton code provided to answer this question:\n",
    "\n",
    "    FILL_THIS_IN <- FILL_THIS_IN %>% \n",
    "      FILL_THIS_IN(FILL_THIS_IN != \"0-17\" & age_group != \"FILL_THIS_IN\" \n",
    "                   & FILL_THIS_IN != \"Other or no mechanism specified\",\n",
    "                   & FILL_THIS_IN == \"Deaths\") %>% \n",
    "      na.omit() %>%\n",
    "      FILL_THIS_IN(pct = number_est/sum(number_est)) %>%\n",
    "      mutate(pct = pct * 10) %>%\n",
    "      FILL_THIS_IN(age_group = factor(FILL_THIS_IN),\n",
    "             injury_mechanism = factor(FILL_THIS_IN),\n",
    "             type = factor(FILL_THIS_IN)) %>%\n",
    "      mutate(age_group = fct_relevel(age_group, c(\"0-4\", \"5-14\", \"15-24\",\n",
    "                                                  \"25-34\", \"35-44\", \"45-54\",\n",
    "                                                  \"55-64\", \"65-74\", \"75+\")))"
   ]
  },
  {
   "cell_type": "code",
   "execution_count": null,
   "metadata": {
    "deletable": false,
    "nbgrader": {
     "cell_type": "code",
     "checksum": "09f0d03b98b102d382a9f4cfc853f435",
     "grade": false,
     "grade_id": "cell-e4ec9f65ca444f1f",
     "locked": false,
     "schema_version": 3,
     "solution": true,
     "task": false
    }
   },
   "outputs": [],
   "source": [
    "# your code here\n",
    "fail() # No Answer - remove if you provide an answer\n",
    "head(tbi_age_tidy) # prints the first 6 lines"
   ]
  },
  {
   "cell_type": "code",
   "execution_count": null,
   "metadata": {
    "deletable": false,
    "editable": false,
    "nbgrader": {
     "cell_type": "code",
     "checksum": "d3664dd34605e14629e56de7482a8d33",
     "grade": true,
     "grade_id": "cell-04d8a1292a8004d0",
     "locked": true,
     "points": 1,
     "schema_version": 3,
     "solution": false,
     "task": false
    }
   },
   "outputs": [],
   "source": [
    "test_6.2()"
   ]
  },
  {
   "cell_type": "markdown",
   "metadata": {
    "deletable": false,
    "editable": false,
    "nbgrader": {
     "cell_type": "markdown",
     "checksum": "f2fd9b0caed9d37226d25f7802b9c46e",
     "grade": false,
     "grade_id": "cell-f85937b6f241986e",
     "locked": true,
     "schema_version": 3,
     "solution": false,
     "task": false
    }
   },
   "source": [
    "#### Question 6.3\n",
    "\n",
    "Now, using our new data, we will go on to answer our question, __What are the leading causes of traumatic brain injury related deaths by age group?__ As you can see, from our FMRI question, you can create a graph in R very easily. In this question, we will be trying to make this graph as aesthetically pleasing as possible. Here, I will show you some cool and easy ways to make your plot look really nice. \n",
    "\n",
    "1. What data will we use?\n",
    "    * We will use `tidy_age_group` for this graph.\n",
    "\n",
    "\n",
    "2. What are our aesthetic mappings? \n",
    "    * We will be mapping __age_group__ on the x-axis, __pct__ on the y-axis, and we will differentiate __injury_mechanism__ by color. \n",
    "\n",
    "\n",
    "3. What geometric object will we use? \n",
    "    * We will need a scatter plot and a line plot.\n",
    "    \n",
    "*Nice! We have a plot now. Everything we do beyond step three can be optional but encouraged.*\n",
    "\n",
    "\n",
    "4. We can create this graph without scales, but if we want to make it nicer, we can change the scales.\n",
    "    * We can change the y-axis to percent via `scales` package.\n",
    "    * We can change the default color R gives us. \n",
    "\n",
    "\n",
    "5. Let's change the x-axis and y-axis to be something more human readable.\n",
    "    * In this case, I would get rid of the x-axis and the y-axis names. \n",
    "    * We can add a descriptive title as well.\n",
    "        * Play around and add a subtitle or caption!\n",
    "    * We can get rid of the legend title. The contents are self-explanatory and it seems redundant to add a title. Let's get rid of it. \n",
    "\n",
    "\n",
    "6. I am not a big fan of the default theme that R gives us. Play around with the built in themes in R!\n",
    "\n",
    "*The graph we have now is publication ready. However, we can make it look even nicer.*\n",
    "\n",
    "7. Finally, we can add the finishing touches to our graph.\n",
    "    * I am not a fan of the legend placement. Let's change the position of the graph. Try changing it to be on top or on the bottom.\n",
    "    * Let's make our title font size a bit bigger and make it bold.\n",
    "    * Accordingly, let's make the axis text a bit easier to read. Make it **bold**.\n",
    "\n",
    "\n",
    "Use the following skeleton code to create this graph:\n",
    "\n",
    "*__Note__ that this question will not be graded. Play around with the colors, naming, themes, and more! Make this graph unique and aesthetically pleasing to look at!* "
   ]
  },
  {
   "cell_type": "code",
   "execution_count": null,
   "metadata": {},
   "outputs": [],
   "source": [
    "# Step 1: Pipe the data set you will be using \n",
    "tbi_age_tidy %>%\n",
    "# Step 2: Add your aesthetic mappings\n",
    "    ggplot(aes(x = age_group, y = pct, color = injury_mechanism)) +\n",
    "# Step 3: Choose what geometric object you will use\n",
    "    geom_point() +\n",
    "    geom_line(aes(group = injury_mechanism)) +\n",
    "# Step 4: Change the scales\n",
    "    scale_y_continuous(labels = scales::percent) +\n",
    "    scale_color_manual(values = c(\"#1b9e77\", \"#d95f02\", \"#7570b3\", #change to whatever color you want!\n",
    "                                  \"#e7298a\", \"#66a61e\", \"#e6ab02\")) +\n",
    "# Step 5: Add human readable and descriptive titles \n",
    "    labs(x = \"\", \n",
    "         y = \"\", \n",
    "         color = \"\",\n",
    "         title = \"Leading causes of TBI related deaths\", \n",
    "         subtitle = \"By age in 2014\", \n",
    "         caption = \"\") +\n",
    "# Step 6: Change the default theme to something more aesthetically pleasing\n",
    "    theme_minimal() +\n",
    "# Step 7: Add the final touches!\n",
    "    theme(\n",
    "        legend.position = \"bottom\",\n",
    "        plot.title = element_text(face = \"bold\"),\n",
    "        axis.text = element_text(face = \"bold\")\n",
    "        ) "
   ]
  },
  {
   "cell_type": "markdown",
   "metadata": {},
   "source": [
    "### 7. Future directions\n",
    "\n",
    "If you enjoyed this workshop, please let me know by filling out our (very short) survey [here](https://ubc.ca1.qualtrics.com/jfe/form/SV_9BN4hBVzr9jRkZD)! I would love to create and host more workshops in the future. We covered a lot of topics today but we didn't really go over the basics or go deep into a specific topic. My goal was to show you the cool side of R to get you interested. If you want more workshops that go into more detail, shoot me an email!"
   ]
  }
 ],
 "metadata": {
  "kernelspec": {
   "display_name": "R",
   "language": "R",
   "name": "ir"
  },
  "language_info": {
   "codemirror_mode": "r",
   "file_extension": ".r",
   "mimetype": "text/x-r-source",
   "name": "R",
   "pygments_lexer": "r",
   "version": "4.0.2"
  }
 },
 "nbformat": 4,
 "nbformat_minor": 4
}
